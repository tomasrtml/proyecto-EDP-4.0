{
 "cells": [
  {
   "cell_type": "markdown",
   "metadata": {},
   "source": [
    "# Librerías"
   ]
  },
  {
   "cell_type": "code",
   "execution_count": 43,
   "metadata": {},
   "outputs": [],
   "source": [
    "import sys\n",
    "import calendar as cd\n",
    "import pandas as pd\n",
    "import numpy as np\n",
    "import math\n",
    "import psycopg2\n",
    "import matplotlib.pyplot as plt\n",
    "from collections import OrderedDict\n",
    "import json\n",
    "from datetime import datetime\n",
    "import queries2\n"
   ]
  },
  {
   "cell_type": "code",
   "execution_count": 44,
   "metadata": {},
   "outputs": [
    {
     "data": {
      "text/plain": [
       "'hola'"
      ]
     },
     "execution_count": 44,
     "metadata": {},
     "output_type": "execute_result"
    }
   ],
   "source": [
    "queries2.query_sshh\n"
   ]
  },
  {
   "cell_type": "code",
   "execution_count": 29,
   "metadata": {},
   "outputs": [
    {
     "data": {
      "text/plain": [
       "'hola'"
      ]
     },
     "execution_count": 29,
     "metadata": {},
     "output_type": "execute_result"
    }
   ],
   "source": [
    "with open('credentials_postgre.json') as file:\n",
    "\tcredentials = json.load(file)\n",
    "conn_sql = psycopg2.connect(user = credentials[\"postgre\"]['user'],\n",
    "                            password = credentials[\"postgre\"]['password'],\n",
    "                            host = credentials[\"postgre\"]['host'],\n",
    "                            port = credentials[\"postgre\"]['port'],\n",
    "                            database = credentials[\"postgre\"]['database'])\n",
    "query_sshh = queries.query_sshh\n",
    "query_sshh"
   ]
  },
  {
   "cell_type": "markdown",
   "metadata": {},
   "source": [
    "# Traer datos"
   ]
  },
  {
   "cell_type": "code",
   "execution_count": 18,
   "metadata": {},
   "outputs": [
    {
     "ename": "AttributeError",
     "evalue": "module 'queries' has no attribute 'query_viajes'",
     "output_type": "error",
     "traceback": [
      "\u001b[1;31m---------------------------------------------------------------------------\u001b[0m",
      "\u001b[1;31mAttributeError\u001b[0m                            Traceback (most recent call last)",
      "\u001b[1;32mC:\\Users\\TOMAS~1.RET\\AppData\\Local\\Temp/ipykernel_7404/942060661.py\u001b[0m in \u001b[0;36m<module>\u001b[1;34m\u001b[0m\n\u001b[0;32m      7\u001b[0m                             database = credentials[\"postgre\"]['database'])\n\u001b[0;32m      8\u001b[0m \u001b[0mquery_sshh\u001b[0m \u001b[1;33m=\u001b[0m \u001b[0mqueries\u001b[0m\u001b[1;33m.\u001b[0m\u001b[0mquery_sshh\u001b[0m\u001b[1;33m\u001b[0m\u001b[1;33m\u001b[0m\u001b[0m\n\u001b[1;32m----> 9\u001b[1;33m \u001b[0mquery_viajes\u001b[0m \u001b[1;33m=\u001b[0m \u001b[0mqueries\u001b[0m\u001b[1;33m.\u001b[0m\u001b[0mquery_viajes\u001b[0m\u001b[1;33m\u001b[0m\u001b[1;33m\u001b[0m\u001b[0m\n\u001b[0m\u001b[0;32m     10\u001b[0m \u001b[1;33m\u001b[0m\u001b[0m\n\u001b[0;32m     11\u001b[0m \u001b[1;31m#Traemos las tablas básicas:\u001b[0m\u001b[1;33m\u001b[0m\u001b[1;33m\u001b[0m\u001b[0m\n",
      "\u001b[1;31mAttributeError\u001b[0m: module 'queries' has no attribute 'query_viajes'"
     ]
    }
   ],
   "source": [
    "with open('credentials_postgre.json') as file:\n",
    "\tcredentials = json.load(file)\n",
    "conn_sql = psycopg2.connect(user = credentials[\"postgre\"]['user'],\n",
    "                            password = credentials[\"postgre\"]['password'],\n",
    "                            host = credentials[\"postgre\"]['host'],\n",
    "                            port = credentials[\"postgre\"]['port'],\n",
    "                            database = credentials[\"postgre\"]['database'])\n",
    "query_sshh = queries.query_sshh\n",
    "query_viajes = queries.query_viajes\n",
    "\n",
    "#Traemos las tablas básicas:\n",
    "#Servicios históricos (SQL)\n",
    "sshh = pd.read_sql(query_sshh, conn_sql)\n",
    "#Viajes (SQL)\n",
    "viajes = pd.read_sql(query_viajes, conn_sql)\n",
    "#Transición y precio histórico (EXCEL)\n",
    "transicion = pd.read_excel(\"TT y PH.xlsx\",sheet_name = \"Transición\")\n",
    "transicion = transicion.fillna(0)\n",
    "precio_historico = pd.read_excel(\"TT y PH.xlsx\",sheet_name = \"Precio histórico\")\n",
    "#Renombramos algunas columnas de Transición y Precio Histórico para mayor comodidad.\n",
    "precio_historico = precio_historico.rename(columns={'precio histórico_id':'precio_historico_id','fecha inicio':'fecha_inicio_precio','fecha término':'fecha_termino_precio'})\n",
    "transicion = transicion.rename(columns={'id_servicio':'servicio_id'})\n",
    "\n",
    "#Generamos tablas de interés mediante la combinación de ciertas tablas básicas:\n",
    "#Tabla de homologación\n",
    "homologacion = sshh.merge(transicion[[\"nombre_edp\",\"codigo_comercial\",\"servicio_id\"]].reset_index(drop=True),'left','servicio_id')\n",
    "#Tabla de viajes + características comerciales\n",
    "viajes_tr_ph = viajes.merge(right=transicion, how='left', on='servicio_id',sort='viaje_id').merge(right=precio_historico, how='left', on='precio_historico_id',sort='viaje_id')\n",
    "viajes_tr_ph = viajes_tr_ph.drop([\"fecha_inicio1\"],axis=1)\n",
    "viajes_tr_ph[\"fecha_inicio\"]=pd.to_datetime(\n",
    "viajes_tr_ph[\"fecha_inicio\"],\n",
    "errors = 'coerce',\n",
    "format = '%Y-%m-%d %H:%M:%S'\n",
    ")#.dt.tz_localize(None)\n",
    "\n",
    "viajes_tr_ph[\"fecha_inicio_cobro\"]=pd.to_datetime(\n",
    "viajes_tr_ph[\"fecha_inicio_cobro\"],\n",
    "errors = 'coerce',\n",
    "format = '%Y-%m-%d %H:%M:%S'\n",
    ")#.dt.tz_localize(None)\n",
    "viajes_tr_ph[\"vigencia_cobro\"]=pd.to_datetime(\n",
    "viajes_tr_ph[\"vigencia_cobro\"],\n",
    "errors = 'coerce',\n",
    "format = '%Y-%m-%d %H:%M:%S'\n",
    ")\n",
    "viajes_tr_ph[\"vigencia_servicio\"]=pd.to_datetime(\n",
    "viajes_tr_ph[\"vigencia_servicio\"],\n",
    "errors = 'coerce',\n",
    "format = '%Y-%m-%d %H:%M:%S'\n",
    ")"
   ]
  },
  {
   "cell_type": "markdown",
   "metadata": {},
   "source": [
    "# Función generadora de EDP"
   ]
  },
  {
   "cell_type": "code",
   "execution_count": 103,
   "metadata": {},
   "outputs": [],
   "source": [
    "def dias(frecuencia,inicio,fin):\n",
    "    a = cd.Calendar()\n",
    "    weekdays = {'L-D':range(7),'L-S':range(6),'L-V':range(5),'L-J':range(4),'M-S':(1,2,3,4,5),'V':[4],'X':[2]}\n",
    "    if frecuencia not in weekdays:\n",
    "        raise ValueError(\"Ingrese una frecuencia válida\")\n",
    "    if inicio[5:7]==fin[5:7]:\n",
    "        return sum([1 for i in a.itermonthdays4(int(inicio[:4]),int(inicio[5:7])) if i[1]==int(inicio[5:7]) and i[2] <= int(fin[8:10]) and i[2] >= int(inicio[8:10]) and i[3] in weekdays[frecuencia]])\n",
    "\n",
    "    elif (int(fin[5:7])-int(inicio[5:7])==1) or (int(inicio[5:7])==12 and fin[5:7] == '01'):\n",
    "        return sum([1 for i in a.itermonthdays4(int(inicio[:4]),int(inicio[5:7])) if i[1]==int(inicio[5:7]) and i[2] >= int(inicio[8:10])  and i[3] in weekdays[frecuencia]]) + sum([1 for i in a.itermonthdays4(int(inicio[:4]),int(fin[5:7])) if i[1]==int(fin[5:7]) and i[2] <= int(fin[8:10]) and i[3] in weekdays[frecuencia]])\n",
    "    else:\n",
    "        raise ValueError(\"Los meses de inicio y fin deben ser iguales o sucesivos.\")\n",
    "\n",
    "def generar_edp(data,contrato,inicio,fin):\n",
    "  data_filtrada = data[(data[\"fecha_inicio\"] >= inicio) &\n",
    "                      (data[\"fecha_inicio\"] <= fin) &\n",
    "                      (data[\"nombre\"] == contrato) &\n",
    "                      (data[\"fecha_inicio\"] < data[\"vigencia_cobro\"]) &\n",
    "                      (data[\"fecha_inicio\"] > data[\"fecha_inicio_cobro\"])].sort_values(\"fecha_inicio\").reset_index(drop=True)\n",
    "\n",
    "  #Se define este diccionario para luego pasarlo al groupby, lo que permite agrupar según dos valores distintos con una función diferente para cada uno.\n",
    "  dict_agg={'servicio_id':(lambda x: list(OrderedDict.fromkeys([i for i in x]))),'viaje_id':'count','distancia':sum,'cantidad_vehiculos':max,'km_carga':sum,'km_vacio':sum}\n",
    "  cantidad = pd.pivot_table(data_filtrada,[\"servicio_id\",\"viaje_id\",\"distancia\",\"cantidad_vehiculos\",\"km_carga\",\"km_vacio\"],index=[\"nombre_edp\",\"codigo_comercial\",\"Frecuencia\",\"tipo de cobro\",\"fecha_inicio_cobro\",\"vigencia_servicio\",\"km_carga_mensual\",\"km_vacio_mensual\",\"km_mantencion_mensual\"],aggfunc=dict_agg).reset_index()\n",
    "  #return cantidad\n",
    "  cantidad[\"distancia\"] = cantidad[\"distancia\"].apply(lambda x: round(x,2))\n",
    "  cantidad = cantidad.reindex(columns = ['nombre_edp','codigo_comercial','Frecuencia','servicio_id','tipo de cobro','cantidad_vehiculos','viaje_id','distancia','fecha_inicio_cobro','vigencia_servicio',\"km_carga_mensual\",\"km_vacio_mensual\",\"km_mantencion_mensual\",\"km_carga\",\"km_vacio\"])\n",
    "  cantidad[\"dias_de_ejecucion\"] = [dias(e,inicio,fin) for e in cantidad[\"Frecuencia\"]]\n",
    "  #e[0]: dias de ejecucion\n",
    "  #e[1]: fecha inicio cobro\n",
    "  #e[2]: vigencia servicio\n",
    "  #e[3]: Frecuencia\n",
    "  #si fecha_inicio_cobro es menor que inicio_edp y fin_edp es menor que vigencia_servicio, dias_disponibilidad = dias de ejecucion\n",
    "  #\n",
    "  cantidad[\"dias_disponibilidad\"] = [e[0] if (e[1] <= datetime.strptime(inicio,'%Y-%m-%d %H:%M:%S') and e[2] >= datetime.strptime(fin,'%Y-%m-%d %H:%M:%S')) else dias(e[3],str(e[1]),fin) if e[1] > datetime.strptime(inicio,'%Y-%m-%d %H:%M:%S') else dias(e[3],inicio,str(e[2])) if e[2] < datetime.strptime(fin,'%Y-%m-%d %H:%M:%S') else 9999 for e in np.array(cantidad[[\"dias_de_ejecucion\",\"fecha_inicio_cobro\",\"vigencia_servicio\",\"Frecuencia\"]])]\n",
    "  cantidad[\"disponibilidad\"] = cantidad[\"dias_disponibilidad\"]/cantidad[\"dias_de_ejecucion\"]\n",
    "  cantidad[\"tramos_a_ejecutar\"]=cantidad[\"servicio_id\"].apply(lambda x: len(x)) * cantidad[\"dias_disponibilidad\"]\n",
    "  cantidad[\"finalizados\"] = cantidad[\"nombre_edp\"].apply(lambda x: sum([1 if (x == fila[0]) and (fila[1]==\"FINALIZADO\") else 0 for fila in np.array(data_filtrada[[\"nombre_edp\",\"estado\"]])]))\n",
    "  cantidad[\"no_iniciados\"] = cantidad[\"nombre_edp\"].apply(lambda x: sum([1 if (x == fila[0]) and (fila[1]==\"NO_INICIADO\") else 0 for fila in np.array(data_filtrada[[\"nombre_edp\",\"estado\"]])]))\n",
    "  cantidad[\"anulados\"] = cantidad[\"nombre_edp\"].apply(lambda x: sum([1 if (x == fila[0]) and (fila[1]==\"ANULADO\") else 0 for fila in np.array(data_filtrada[[\"nombre_edp\",\"estado\"]])]))\n",
    "  '''Fin del reporte operacional. Empiaza creación del comercial.\n",
    "  '''\n",
    "  \n",
    "  comercial = pd.pivot_table(data_filtrada,index=[\"nombre_edp\",\"codigo_comercial\",\"tipo de cobro\"],values=[\"distancia\",\"cantidad_vehiculos\",\"viaje_id\"],aggfunc={'distancia':sum,'cantidad_vehiculos':max,'viaje_id':'count'}).reset_index()\n",
    "  #Buscar el precio_historico_id de cada servicio según su código comercial y agregarlos como una columna.\n",
    "  lista = []\n",
    "  for i in range(len(comercial)):\n",
    "    for j in range(len(transicion)):\n",
    "      if comercial[\"codigo_comercial\"][i] == transicion[\"codigo_comercial\"][j] and datetime.strptime(inicio, '%Y-%m-%d %H:%M:%S') < transicion[\"vigencia_cobro\"][j]:\n",
    "        lista.append(transicion[\"precio_historico_id\"][j])\n",
    "        break\n",
    "  comercial[\"precio_historico_id\"]=pd.Series(lista)\n",
    "  comercial = comercial[[\"nombre_edp\",\"tipo de cobro\",\"precio_historico_id\",\"cantidad_vehiculos\",\"viaje_id\",\"distancia\"]]\n",
    "\n",
    "  columna_1 = []\n",
    "  columna_2 = []\n",
    "  columna_3 = []\n",
    "  columna_4 = []\n",
    "  columna_5 = []\n",
    "  columna_6 = []\n",
    "  columna_7 = []\n",
    "  columna_8 = []\n",
    "  columna_9 = []\n",
    "  columna_10 = []\n",
    "  columna_11 = []\n",
    "  columna_12 = []\n",
    "  for i in range(len(comercial)):\n",
    "    for j in range(len(precio_historico)):\n",
    "      if comercial[\"precio_historico_id\"][i] == precio_historico[\"precio_historico_id\"][j]:\n",
    "        columna_1.append(precio_historico[\"EDP separados\"][j])\n",
    "        columna_2.append(precio_historico[\"Vueltas contratadas\"][j])\n",
    "        columna_3.append(precio_historico[\"costo fijo flota\"][j])\n",
    "        columna_4.append(precio_historico[\"costo fijo logística\"][j])\n",
    "        columna_5.append(precio_historico[\"costo unitario vueltas contratadas\"][j])\n",
    "        columna_6.append(precio_historico[\"costo fijo viaje no realizado\"][j])\n",
    "        columna_7.append(precio_historico[\"porcentaje costo fijo no realizado\"][j])\n",
    "        columna_8.append(precio_historico[\"costo variable vuelta flota\"][j])\n",
    "        columna_9.append(precio_historico[\"costo variable vuelta logística\"][j])\n",
    "        columna_10.append(precio_historico[\"costo variable vuelta unitario flota\"][j])\n",
    "        columna_11.append(precio_historico[\"costo variable vuelta unitario logística\"][j])\n",
    "        columna_12.append(precio_historico[\"costo variable km\"][j])\n",
    "        break\n",
    "  comercial[\"EDP separados\"]=pd.Series(columna_1)\n",
    "  comercial[\"Vueltas contratadas\"]=pd.Series(columna_2)\n",
    "  comercial[\"costo fijo flota\"]=pd.Series(columna_3)\n",
    "  comercial[\"costo fijo logística\"]=pd.Series(columna_4)\n",
    "  comercial[\"costo unitario vueltas contratadas\"]=pd.Series(columna_5)\n",
    "  comercial[\"costo fijo viaje no realizado\"]=pd.Series(columna_6)\n",
    "  comercial[\"porcentaje costo fijo no realizado\"]=pd.Series(columna_7)\n",
    "  comercial[\"costo variable vuelta flota\"]=pd.Series(columna_8)\n",
    "  comercial[\"costo variable vuelta logística\"]=pd.Series(columna_9)\n",
    "  comercial[\"costo variable vuelta unitario flota\"]=pd.Series(columna_10)\n",
    "  comercial[\"costo variable vuelta unitario logística\"]=pd.Series(columna_11)\n",
    "  comercial[\"costo variable km\"]=pd.Series(columna_12)\n",
    "  comercial[\"total\"]=0\n",
    "  for i in range(len(comercial)):\n",
    "    if comercial[\"tipo de cobro\"][i]==1:\n",
    "      comercial[\"total\"][i] = comercial[\"costo variable vuelta unitario logística\"][i]*comercial[\"viaje_id\"][i]\n",
    "    elif comercial[\"tipo de cobro\"][i]==4:\n",
    "      comercial[\"total\"][i] = comercial[\"costo fijo logística\"][i]\n",
    "    elif comercial[\"tipo de cobro\"][i]==5:\n",
    "      comercial[\"total\"][i] = comercial[\"costo fijo flota\"][i] * comercial[\"cantidad_vehiculos\"][i] + comercial[\"costo fijo logística\"][i]\n",
    "    elif comercial[\"tipo de cobro\"][i]==6:\n",
    "      comercial[\"total\"][i] = comercial[\"costo fijo flota\"][i] * comercial[\"cantidad_vehiculos\"][i] + comercial[\"costo variable vuelta unitario logística\"][i]*comercial[\"viaje_id\"][i]\n",
    "    elif comercial[\"tipo de cobro\"][i]==8:\n",
    "      comercial[\"total\"][i] = comercial[\"costo fijo flota\"][i] * comercial[\"cantidad_vehiculos\"][i] + comercial[\"costo fijo logística\"][i] + comercial[\"viaje_id\"][i]*comercial[\"costo variable vuelta unitario logística\"][i]\n",
    "    elif comercial[\"tipo de cobro\"][i]==9:\n",
    "      comercial[\"total\"][i] = comercial[\"costo variable km\"][i]*comercial[\"distancia\"][i]\n",
    "    elif comercial[\"tipo de cobro\"][i]==10:\n",
    "      comercial[\"total\"][i] = comercial[\"costo fijo flota\"][i] * comercial[\"cantidad_vehiculos\"][i] + comercial[\"costo fijo logística\"][i] + comercial[\"distancia\"][i]*comercial[\"costo variable km\"][i]\n",
    "    elif comercial[\"tipo de cobro\"][i]==11:\n",
    "      comercial[\"total\"][i] = comercial[\"costo unitario vueltas contratadas\"][i]*comercial[\"viaje_id\"][i] + (comercial[\"Vueltas contratadas\"][i] - comercial[\"viaje_id\"][i])*comercial[\"costo fijo viaje no realizado\"][i]\n",
    "    elif comercial[\"tipo de cobro\"][i]==12:\n",
    "      comercial[\"total\"][i] = comercial[\"costo variable km\"][i]*comercial[\"distancia\"][i]\n",
    "    #comercial[\"total\"]=cantidad[\"total\"].astype(int)\n",
    "\n",
    "  #cantidad.\n",
    "  #np.isnan(cantidad[\"Vueltas contratadas\"])#[1]#.head(10)\n",
    "  for i in comercial.columns.values:\n",
    "    if comercial[i].isnull().sum()==len(comercial[i]):\n",
    "      comercial=comercial.drop([i],axis=1)\n",
    "  tipos_de_cobro={1:'Cobro por vuelta', 2:'Cobro por vuelta (F+L)', 3:'Cobro por E/S', 4:'Suma alzada',\n",
    "                  5:'Suma alzada (F+L)', 6:'Suma alzada + cobro por vuelta', 7:'Suma alzada (F+L) + cobro por vuelta', 8:'Suma alzada (F+L) + cobro por tramo',\n",
    "                  9:'Suma alzada + cobro por km recorrido', 10:'Suma alzada (F+L) + cobro por km', 11:'Suma alzada – porcentaje del costo unitario por vuelta no realizada', 12:'Variable por km'}\n",
    "\n",
    "  comercial[\"tipo de cobro\"]=comercial[\"tipo de cobro\"].replace(tipos_de_cobro)\n",
    "  #for i in cantidad.columns.values[7::]:\n",
    "  #  cantidad[i]=cantidad[i].astype(int)\n",
    "  comercial[\"total\"]=comercial[\"total\"].astype(int)\n",
    "  meses = {'01':'enero','02':'febrero','03':'marzo','04':'abril','05':'mayo','06':'junio','07':'julio','08' : 'agosto', '09' : 'septiembre', '10' : 'octubre', '11':'noviembre','12':'diciembre'}\n",
    "  cantidad[\"periodo\"] = \"Del \" + inicio[8:10] + \" de \" + meses[inicio[5:7]] + \" al \" + fin[8:10] + \" de \" + meses[fin[5:7]]\n",
    "  comercial[\"periodo\"] = \"Del \" + inicio[8:10] + \" de \" + meses[inicio[5:7]] + \" al \" + fin[8:10] + \" de \" + meses[fin[5:7]]\n",
    "  cantidad=cantidad.drop(columns=[\"tipo de cobro\",\"fecha_inicio_cobro\",\"vigencia_servicio\"])\n",
    "  cantidad = cantidad[[\"nombre_edp\",\"codigo_comercial\",\"Frecuencia\",\"servicio_id\",\"cantidad_vehiculos\",\"dias_de_ejecucion\",\"dias_disponibilidad\",\"disponibilidad\",\"tramos_a_ejecutar\",\"viaje_id\",\"finalizados\",\"no_iniciados\",\"anulados\",\"distancia\",\"km_carga_mensual\",\"km_vacio_mensual\",\"km_mantencion_mensual\",\"km_carga\",\"km_vacio\",\"periodo\"]]\n",
    "  \n",
    "  return [comercial,cantidad,data_filtrada]"
   ]
  },
  {
   "cell_type": "markdown",
   "metadata": {},
   "source": [
    "# Generar EDP"
   ]
  },
  {
   "cell_type": "code",
   "execution_count": null,
   "metadata": {},
   "outputs": [],
   "source": [
    "contrato = \"C SCL BREDEN MASTER\"\n",
    "inicio = \"2021-12-01 00:00:00\"\n",
    "fin =    \"2021-12-31 23:59:59\"\n",
    "dir = \"C:/Users/tomas.retamal/Desktop/Estados de Pago/EDP Python/\"\n",
    "writer = pd.ExcelWriter(dir + \"EDP_\" +contrato[6::]+\"_\"+fin[:4]+\"_\"+fin[5:7]+\".xlsx\")\n",
    "comercial = generar_edp(viajes_tr_ph,contrato,inicio,fin)[0].rename(columns={'viaje_id':'tramos_ejecutados'})\n",
    "operacional = generar_edp(viajes_tr_ph,contrato,inicio,fin)[1].rename(columns={'viaje_id':'tramos_ejecutados'})\n",
    "viajes_edp = generar_edp(viajes_tr_ph,contrato,inicio,fin)[2].rename(columns={'viaje_id':'tramos_ejecutados'})\n",
    "comercial.to_excel(writer, sheet_name=\"Comercial\",index=False)\n",
    "operacional.to_excel(writer, sheet_name=\"Operacional\",index=False)\n",
    "viajes_edp.to_excel(writer,sheet_name=\"Viajes\",index=False)\n",
    "writer.save()\n",
    "writer.close()\n",
    "#SODEXO NESTLÉ FALTAN FRECUENCIAS"
   ]
  },
  {
   "cell_type": "code",
   "execution_count": null,
   "metadata": {},
   "outputs": [],
   "source": []
  }
 ],
 "metadata": {
  "interpreter": {
   "hash": "325b576c15c4fb5991fa8b98004cdb26a2feebd118ed002c2bbfff031364c1e2"
  },
  "kernelspec": {
   "display_name": "Python 3.10.1 64-bit ('proyectoEDP': conda)",
   "language": "python",
   "name": "python3"
  },
  "language_info": {
   "codemirror_mode": {
    "name": "ipython",
    "version": 3
   },
   "file_extension": ".py",
   "mimetype": "text/x-python",
   "name": "python",
   "nbconvert_exporter": "python",
   "pygments_lexer": "ipython3",
   "version": "3.10.1"
  },
  "orig_nbformat": 4
 },
 "nbformat": 4,
 "nbformat_minor": 2
}
